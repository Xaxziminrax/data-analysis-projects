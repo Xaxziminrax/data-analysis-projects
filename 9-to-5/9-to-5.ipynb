{
    "cells": [
        {
            "cell_type": "markdown",
            "metadata": {
                "azdata_cell_guid": "7ad962b3-fce2-439c-9ac4-460e1a79b0e8"
            },
            "source": [
                "# Graded Assignment 3: 9 to 5\n",
                "\n",
                "Time to show off your SQL skills! For each question, copy the SQL query you used and make note of the answer.\n",
                "\n",
                "## The Dataset\n",
                "\n",
                "For this assignment, you will be using the Bureau of Labor Statistics (BLS) Current Employment Survey (CES) results which can be found on [Kaggle](https://www.kaggle.com/datasets/bls/employment).\n",
                "\n",
                "## Business Issue\n",
                "\n",
                "You are working for the Bureau of Labor Statistics with the United States government and have been approached by your boss with an important meeting request. You have been asked by your supervisor to meet with Dolly Parton whose nonprofit is looking to shed light on the state of employment in the United States. As part of the 9 to 5 project, their research is focused on production and nonsupervisory employees and how those employees fare compared to all employees in the United States. While the data the BLS collects from the CES is publicly available, Dolly Parton and her colleagues need your assistance navigating the thousands of rows in each table in LaborStatisticsDB.\n",
                "\n",
                "## About the Dataset\n",
                "\n",
                "This dataset comes directly from the Bureau of Labor Statistics’ Current Employment Survey (CES). Here are some things you need to know:\n",
                "\n",
                "1. The industry table contains an NAICS code. This is different from the industry code. NAICS stands for North American Industry Classification System.\n",
                "1. Series ID is composed of multiple different codes. CES stands for Current Employment Survey, the name of the survey which collected the data. The industry code as specified by the BLS and the data type code as specified in the datatype table.\n",
                "\n",
                "## Set Up\n",
                "\n",
                "To connect to the database, use the same connection info used during the SQL lessons. \n",
                "\n",
                "For the assignment, we will be using `LaborStatisticsDB`."
            ]
        },
        {
            "cell_type": "markdown",
            "metadata": {
                "azdata_cell_guid": "dcbb5ae7-a9c8-4d48-8986-8a0f778cc6c6"
            },
            "source": [
                "## Database Exploration\n",
                "\n",
                "To start with, let’s get to know the database further.\n",
                "\n",
                "1. Use this space to make note of each table in the database, the columns within each table, each column’s data type, and how the tables are connected. You can write this down or draw a diagram. Whatever method helps you get an understanding of what is going on with `LaborStatisticsDB`.\n",
                "   \n",
                "   To add a photo, diagram or document to your file, drop the file into the folder that holds this notebook.  Use the link button to the right of the  </> symbol in the gray part of this cell, the link is just the name of your file."
            ]
        },
        {
            "cell_type": "code",
            "execution_count": null,
            "metadata": {
                "azdata_cell_guid": "adb853fc-e2ab-416a-89f0-eb1d6f5b4af8",
                "language": "sql"
            },
            "outputs": [],
            "source": []
        },
        {
            "cell_type": "markdown",
            "metadata": {
                "azdata_cell_guid": "87e95d63-f756-4afc-98d9-ed1dcfb95466"
            },
            "source": [
                "2. What is the datatype for women employees?"
            ]
        },
        {
            "cell_type": "code",
            "execution_count": null,
            "metadata": {
                "azdata_cell_guid": "e695b98b-25ed-4bec-8407-6f060e711df1",
                "language": "sql"
            },
            "outputs": [],
            "source": [
                "--data_type_code is 10. Text \"WOMEN EMPLOYEES\"\n",
                "\n",
                "--Query:\n",
                "\n",
                "select * from laborstatisticsdb.dbo.datatype\n",
                "where data_type_text LIKE '%women%';"
            ]
        },
        {
            "cell_type": "markdown",
            "metadata": {
                "azdata_cell_guid": "5e72355c-a069-483d-8e57-33c8244e54d3"
            },
            "source": [
                "3. What is the series id for  women employees in the commercial banking industry in the financial activities supersector?"
            ]
        },
        {
            "cell_type": "code",
            "execution_count": null,
            "metadata": {
                "azdata_cell_guid": "3ecf48c5-07bb-4063-aef5-96b4212f5150",
                "language": "sql"
            },
            "outputs": [],
            "source": [
                "--Series ID: CES5552211010\n",
                "\n",
                "--Query:\n",
                "\n",
                "select DISTINCT * from LaborStatisticsDB.dbo.series\n",
                "where supersector_code = 55 AND data_type_code = 10 AND industry_code = 55522110;"
            ]
        },
        {
            "cell_type": "markdown",
            "metadata": {
                "azdata_cell_guid": "44ff5801-e75c-405f-bba2-e4f864356f0a"
            },
            "source": [
                "## Aggregate Your Friends and Code some SQL\n",
                "\n",
                "Put together the following:\n",
                "\n",
                "1. How many employees were reported in 2016 in all industries? Round to the nearest whole number."
            ]
        },
        {
            "cell_type": "code",
            "execution_count": null,
            "metadata": {
                "azdata_cell_guid": "2f2aa59f-b6c5-470f-9f72-8bc0ec5178ab",
                "language": "sql"
            },
            "outputs": [],
            "source": [
                "--2,340,612 employees\n",
                "\n",
                "--Query:\n",
                "\n",
                "select sum([value]) AS \"sumAllEmployees\"\n",
                "from LaborStatisticsDB.dbo.annual_2016 \n",
                "where series_id LIKE '%01' or series_id LIKE '%25' or series_id like '%26';"
            ]
        },
        {
            "cell_type": "markdown",
            "metadata": {
                "azdata_cell_guid": "29d32b99-da7f-4c98-b757-ff3704d136e8"
            },
            "source": [
                "2. How many women employees were reported in 2016 in all industries? Round to the nearest whole number. "
            ]
        },
        {
            "cell_type": "code",
            "execution_count": null,
            "metadata": {
                "azdata_cell_guid": "6e478ad7-1a7e-460c-8000-1e6c10373731",
                "language": "sql"
            },
            "outputs": [],
            "source": [
                "--1,125,490 women employees\n",
                "\n",
                "--Query\n",
                "\n",
                "select sum([value]) AS \"sumAllWomen\"\n",
                "from LaborStatisticsDB.dbo.annual_2016 \n",
                "where series_id LIKE '%10';\n"
            ]
        },
        {
            "cell_type": "markdown",
            "metadata": {
                "azdata_cell_guid": "6b173ff0-3ec9-45b1-b9c1-08351f9ae595"
            },
            "source": [
                "3. How many production/nonsupervisory employees were reported in 2016? Round to the nearest whole number. "
            ]
        },
        {
            "cell_type": "code",
            "execution_count": null,
            "metadata": {
                "azdata_cell_guid": "8532a572-5cd6-4d06-b770-c3f1c7c4e8b2",
                "language": "sql"
            },
            "outputs": [],
            "source": [
                "--1,263,650 production/nonsupervisory employees\n",
                "\n",
                "--Query:\n",
                "\n",
                "select sum([value]) AS \"sumProdAndNonSup\"\n",
                "from LaborStatisticsDB.dbo.annual_2016 \n",
                "where series_id LIKE '%06';"
            ]
        },
        {
            "cell_type": "markdown",
            "metadata": {
                "azdata_cell_guid": "f0e5cd3c-1e07-4718-858f-026045a0a438"
            },
            "source": [
                "4. In January 2017, what is the average weekly hours worked by production and nonsupervisory employees across all industries?"
            ]
        },
        {
            "cell_type": "code",
            "execution_count": null,
            "metadata": {
                "azdata_cell_guid": "ed56d1e6-8622-4b43-923f-6892977b3409",
                "language": "sql"
            },
            "outputs": [],
            "source": [
                "--Average is 36 hours worked\n",
                "\n",
                "--Query: \n",
                "\n",
                "select avg([value]) as \"avgWeeklyHrsWorkedProd\"\n",
                "from LaborStatisticsDB.dbo.january_2017\n",
                "where series_id LIKE '%07'"
            ]
        },
        {
            "cell_type": "markdown",
            "metadata": {
                "azdata_cell_guid": "8b6d0663-d4c3-4420-99ed-1c99f1d1942c"
            },
            "source": [
                "5. What is the total weekly payroll for production and nonsupervisory employees across all industries in January 2017? Round to the nearest penny."
            ]
        },
        {
            "cell_type": "code",
            "execution_count": null,
            "metadata": {
                "azdata_cell_guid": "aba326a4-ea96-472e-9b4d-fff929aedc13",
                "language": "sql"
            },
            "outputs": [],
            "source": [
                "--Total Weekly is 84,559,120\n",
                "\n",
                "--Query:\n",
                "\n",
                "select SUM([value]) as \"totalWeeklyPayrollProd\"\n",
                "from LaborStatisticsDB.dbo.january_2017\n",
                "where series_id LIKE '%81'"
            ]
        },
        {
            "cell_type": "markdown",
            "metadata": {
                "azdata_cell_guid": "cdc4508a-a76c-4e36-a816-3c26ef47e710"
            },
            "source": [
                "6. In January 2017, for which industry was the average weekly hours worked by production and nonsupervisory employees the highest? Which industry was the lowest?"
            ]
        },
        {
            "cell_type": "code",
            "execution_count": null,
            "metadata": {
                "azdata_cell_guid": "a6758e01-7ca6-43af-b8b8-04b8120c8a49",
                "language": "sql"
            },
            "outputs": [],
            "source": [
                "--Industry was Total Private\n",
                "\n",
                "--Took Three Queries\n",
                "\n",
                "select * \n",
                "from LaborStatisticsDB.dbo.january_2017\n",
                "where series_id LIKE '%81'\n",
                "ORDER BY \"value\" desc;\n",
                "\n",
                "select * \n",
                "from LaborStatisticsDB.dbo.series\n",
                "where series_id = 'CES0500000081';\n",
                "\n",
                "select *   \n",
                "from LaborStatisticsDB.dbo.industry\n",
                "where industry_code = 05000000;"
            ]
        },
        {
            "cell_type": "markdown",
            "metadata": {
                "azdata_cell_guid": "328915a2-60d5-4c87-b6c2-8e55fab39af3"
            },
            "source": [
                "7. In January 2021, for which industry was the total weekly payroll for production and nonsupervisory employees the highest? Which industry was the lowest?"
            ]
        },
        {
            "cell_type": "code",
            "execution_count": null,
            "metadata": {
                "azdata_cell_guid": "f3985220-b4b7-46f3-ba1a-e041a87be58b",
                "language": "sql"
            },
            "outputs": [],
            "source": [
                "--Industry was Land subdivision\n",
                "\n",
                "--Three Queries:\n",
                "\n",
                "select * \n",
                "from LaborStatisticsDB.dbo.january_2017\n",
                "where series_id LIKE '%81'\n",
                "ORDER BY \"value\" ASC;\n",
                "\n",
                "select * \n",
                "from LaborStatisticsDB.dbo.series\n",
                "where series_id = 'CES2023720081';\n",
                "\n",
                "select *   \n",
                "from LaborStatisticsDB.dbo.industry\n",
                "where industry_code = 20237200;"
            ]
        },
        {
            "cell_type": "markdown",
            "metadata": {
                "azdata_cell_guid": "9c5c9cb4-4376-4645-bf52-c359bad1853e"
            },
            "source": [
                "## Join in on the Fun\n",
                "\n",
                "Time to start joining! You can choose the type of join you use, just make sure to make a  note!\n",
                "\n",
                "1. Join `annual_2016` with `series` on `series_id`. We only want the data in the `annual_2016` table to be included in the result."
            ]
        },
        {
            "cell_type": "code",
            "execution_count": null,
            "metadata": {
                "azdata_cell_guid": "6c1fad5a-9af5-4ebe-b7bf-eb611688cb14",
                "language": "sql"
            },
            "outputs": [
                {
                    "data": {
                        "text/html": [
                            "Commands completed successfully."
                        ]
                    },
                    "metadata": {},
                    "output_type": "display_data"
                },
                {
                    "data": {
                        "text/html": [
                            "Total execution time: 00:00:00.019"
                        ]
                    },
                    "metadata": {},
                    "output_type": "display_data"
                }
            ],
            "source": [
                "-- Limiting rows returned from query, uncomment the line below to start on your query!\n",
                "SELECT TOP 50 * \n",
                "FROM LaborStatisticsDB.dbo.annual_2016 as a\n",
                "LEFT JOIN LaborStatisticsDB.dbo.series as s ON a.series_id = s.series_id;\n",
                "\n",
                "--INNER JOIN and LEFT JOIN give same results here, so either could be used\n",
                "\n",
                "-- Uncomment the line below when you are ready to run the query, leaving it as your last!\n",
                "SELECT TOP 50 * \n",
                "FROM LaborStatisticsDB.dbo.annual_2016 as a\n",
                "LEFT JOIN LaborStatisticsDB.dbo.series as s ON a.series_id = s.series_id\n",
                "ORDER BY id;"
            ]
        },
        {
            "cell_type": "markdown",
            "metadata": {
                "azdata_cell_guid": "f0eefde2-fd6e-4cef-9426-3979c59ac61e"
            },
            "source": [
                "2. Join `series` and `datatype` on `data_type_code`."
            ]
        },
        {
            "cell_type": "code",
            "execution_count": null,
            "metadata": {
                "azdata_cell_guid": "0850cbeb-06f8-4b15-9f87-7a9ca7a87e91",
                "language": "sql"
            },
            "outputs": [],
            "source": [
                "-- Limiting rows returned from query, uncomment the line below to start on your query!\n",
                "-- NOTE, AM UNSURE WHETHER OR NOT THIS IS ITS OWN TABLE OR AM SUPPOSED TO JOIN TABLES IN ORDER. DID THE LATTER. \n",
                "-- BUT IN THE CASE OF THE LATTER, THEN ONLY KEEPING INFORMATION IN ANNUAL_2016 FEELS LIKE IT CAN NO LONGER BE THE CASE\n",
                "SELECT TOP 50 * \n",
                "FROM LaborStatisticsDB.dbo.annual_2016 as a\n",
                "LEFT JOIN LaborStatisticsDB.dbo.series as s ON a.series_id = s.series_id\n",
                "FULL OUTER JOIN LaborStatisticsDB.dbo.datatype as d ON s.data_type_code = s.data_type_code\n",
                "\n",
                "\n",
                "-- Uncomment the line below when you are ready to run the query, leaving it as your last!\n",
                "-- ALSO UNSURE WHETHER OR NOT 'id' IS LITERALLY THE ID COLUMN OR A REFERENCE TO SOMETHING TO BE REPLACED\n",
                "SELECT TOP 50 * \n",
                "FROM LaborStatisticsDB.dbo.annual_2016 as a\n",
                "LEFT JOIN LaborStatisticsDB.dbo.series as s ON a.series_id = s.series_id\n",
                "FULL OUTER JOIN LaborStatisticsDB.dbo.datatype as d ON s.data_type_code = s.data_type_code\n",
                "ORDER BY id;"
            ]
        },
        {
            "cell_type": "markdown",
            "metadata": {
                "azdata_cell_guid": "ada4ecfc-8180-4951-b013-1b4ad14bb2a9"
            },
            "source": [
                "3. Join `series` and `industry` on `industry_code`."
            ]
        },
        {
            "cell_type": "code",
            "execution_count": null,
            "metadata": {
                "azdata_cell_guid": "4eaf2035-ec13-4c15-960f-a40fe73dc34d",
                "language": "sql"
            },
            "outputs": [],
            "source": [
                "-- Limiting rows returned from query, uncomment the line below to start on your query!\n",
                "SELECT TOP 50 * \n",
                "FROM LaborStatisticsDB.dbo.annual_2016 as a\n",
                "LEFT JOIN LaborStatisticsDB.dbo.series as s ON a.series_id = s.series_id\n",
                "RIGHT JOIN LaborStatisticsDB.dbo.datatype as d ON s.data_type_code = s.data_type_code\n",
                "FULL OUTER JOIN LaborStatisticsDB.dbo.industry as i ON i.industry_code = s.industry_code\n",
                "ORDER BY a.id;"
            ]
        },
        {
            "cell_type": "markdown",
            "metadata": {
                "azdata_cell_guid": "7111eeba-9ab9-45b9-a4c5-09b809c63907"
            },
            "source": [
                "## Subqueries, Unions, Derived Tables, Oh My!\n",
                "\n",
                "1. Write a query that returns the `series_id`, `industry_code`, `industry_name`, and `value` from the `january_2017` table but only if that value is greater than the average value for `annual_2016` of `data_type_code` 82."
            ]
        },
        {
            "cell_type": "code",
            "execution_count": null,
            "metadata": {
                "azdata_cell_guid": "b747aa95-d3d7-4843-9f1a-13aae6902e3a",
                "language": "sql"
            },
            "outputs": [],
            "source": [
                "SELECT series_id, [value], industry_code, industry_name\n",
                "from LaborStatisticsDB.dbo.january_2017 as j\n",
                "INNER JOIN  LaborStatisticsDB.dbo.industry as i ON j.id = i.id\n",
                "WHERE [value] > (\n",
                "    select AVG(a.value) from LaborStatisticsDB.dbo.annual_2016 as a\n",
                "    where a.series_id LIKE '%82');"
            ]
        },
        {
            "attachments": {},
            "cell_type": "markdown",
            "metadata": {
                "azdata_cell_guid": "21baa05a-e30c-4993-a63e-1e221bb27aa6",
                "language": "sql"
            },
            "source": [
                "**Optional Bonus Question:** Write the above query as a common table expression!"
            ]
        },
        {
            "cell_type": "code",
            "execution_count": null,
            "metadata": {
                "azdata_cell_guid": "a816a7e7-2175-446c-b4e4-4a3d6667d281",
                "language": "sql"
            },
            "outputs": [],
            "source": [
                "-- Optional CTE below\n",
                "\n",
                "--I'mma be real, CTEs are like the one thing I'm still struggling to wrap my head around. I hope to rewatch\n",
                "--Rose's explanation of them in the relevant lectures, both of the prior Tuesdays, and feel them out more. "
            ]
        },
        {
            "cell_type": "markdown",
            "metadata": {
                "azdata_cell_guid": "661cb463-cf71-40cb-9d03-9bb37492e2d5"
            },
            "source": [
                "2. Create a `Union` table comparing average weekly earnings of production and nonsupervisory employees between `annual_2016` and `january_2017` using the data type 30.  Round to the nearest penny.  You should have a column for the average earnings and a column for the year, and the period."
            ]
        },
        {
            "cell_type": "code",
            "execution_count": null,
            "metadata": {
                "azdata_cell_guid": "327f3949-b20f-4c1e-a126-6005719bf8df",
                "language": "sql"
            },
            "outputs": [],
            "source": [
                "--Annual 2016 -- 797.20\n",
                "--Jan 2017 -- 808.530\n",
                "\n",
                "--Query:\n",
                "\n",
                "SELECT avg([value]) as \"avgEarnings\", period, [year]\n",
                "FROM LaborStatisticsDB.dbo.annual_2016\n",
                "WHERE series_id LIKE '%30'\n",
                "GROUP BY [year], [period]\n",
                "UNION\n",
                "SELECT avg([value]) as \"avgEarnings\", period, [year]\n",
                "from LaborStatisticsDB.dbo.january_2017\n",
                "WHERE series_id LIKE '%30'\n",
                "GROUP BY [year], [period]"
            ]
        },
        {
            "cell_type": "markdown",
            "metadata": {
                "azdata_cell_guid": "cbda1089-6fdf-4b89-9651-54862cf7eb08"
            },
            "source": [
                "## Summarize Your Results\n",
                "\n",
                "With what you know now about the  Bureau of Labor Statistics (BLS) Current Employment Survey (CES) results and working with the Labor Statistics Database, answer the following questions. Note that while this is subjective, you should include relevant data to back up your opinion.\n",
                "\n",
                "1. During which time period did production and nonsupervisory employees fare better?"
            ]
        },
        {
            "cell_type": "markdown",
            "metadata": {
                "azdata_cell_guid": "ed5db53d-2fec-41a3-a9d3-367a676e6c02"
            },
            "source": [
                "--Prod and Nonsupervisory employees fared better (averaged more weekly earnings) in Jan 2017 compared to annual_2016\n",
                "\n",
                "Data: Query in previous question. "
            ]
        },
        {
            "cell_type": "markdown",
            "metadata": {
                "azdata_cell_guid": "e0028946-9a7f-48ba-a14d-6685d55e9423"
            },
            "source": [
                "2. In which industries did production and nonsupervisory employees fare better?"
            ]
        },
        {
            "cell_type": "markdown",
            "metadata": {
                "azdata_cell_guid": "d1fc3b34-cee3-4565-8233-fbb225573974"
            },
            "source": [
                "--So there's multiple interpretations of this, where is it \"fare better relative to their same classification of employees\" or \"fare better relative to all employees?\" \n",
                "\n",
                "I chose the former because it felt more interesting and less noisy as there is not a classification for all employees except prod/non sup employees\n",
                "\n",
                "Here is the Query:\n",
                "\n",
                "select i.industry_name, j.value\n",
                "\n",
                "from LaborStatisticsDB.dbo.industry as i\n",
                "\n",
                "INNER JOIN LaborStatisticsDB.dbo.january_2017 as j ON i.id = j.id\n",
                "\n",
                "where j.[value] > (\n",
                "\n",
                "    select avg(j.value) \n",
                "\n",
                "    from LaborStatisticsDB.dbo.january_2017 as j\n",
                "\n",
                "    where (j.series_id LIKE '%30' OR j.series_id LIKE '%31')\n",
                "\n",
                ") \n",
                "\n",
                "AND (j.[series_id] LIKE '%30' OR j.series_id LIKE '%31')\n",
                "\n",
                "ORDER BY j.value DESC\n",
                "\n",
                "\"Monetary authorities - central bank\" fared the best, at average weekly earnings of 1847.47\n",
                "\n",
                "To change it to the latter interpretation, simply change the j.series_id in the subquery to LIKE '%11' OR LIKE '%12'"
            ]
        },
        {
            "cell_type": "markdown",
            "metadata": {
                "azdata_cell_guid": "0db4c4b1-151b-43f8-9a7a-14d45e15a678"
            },
            "source": [
                "3. Now that you have explored the datasets, is there any data or information that you wish you had in this analysis?"
            ]
        },
        {
            "cell_type": "markdown",
            "metadata": {
                "azdata_cell_guid": "072f17a7-ad63-493a-934f-33660ae1d576"
            },
            "source": [
                "More than anything, I would love monthly data from 2016 instead of just annual aggreate. Would be very nice to be able to break the data down further, instead of comparing one month to a whole year's average. \n",
                "\n",
                "Also it's kind of weird as hell that so many data_type_text entries have duplicates where multiple data_type_codes work for them. I would like for them to be one code. "
            ]
        },
        {
            "cell_type": "markdown",
            "metadata": {},
            "source": []
        }
    ],
    "metadata": {
        "kernelspec": {
            "display_name": "SQL",
            "language": "sql",
            "name": "SQL"
        },
        "language_info": {
            "name": "sql",
            "version": ""
        }
    },
    "nbformat": 4,
    "nbformat_minor": 2
}
